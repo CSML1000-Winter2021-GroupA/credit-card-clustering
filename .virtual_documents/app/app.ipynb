import ipywidgets as widgets
import numpy as np
import pandas as pd
import pickle
import plotly.express as px
import plotly.graph_objs as go

pca_df = pickle.load(open('pca.sav', 'rb'))


title_html = """
<link rel="stylesheet" href="https://stackpath.bootstrapcdn.com/bootstrap/4.5.2/css/bootstrap.min.css" integrity="sha384-JcKb8q3iqJ61gNV9KGb8thSsNjpSL0n8PARn9HuZOnIxN0hoP+VmmDGMN5t9UJ0Z" crossorigin="anonymous">

<h2>Credit Card Clustering Analysis</h2>
"""


pca_out = widgets.Output()

with pca_out:
    layout = go.Layout(
        paper_bgcolor='rgba(255,255,255,0)', 
        plot_bgcolor='rgba(255,255,255,0)', 
        scene=dict(
            xaxis=dict(color='white', title='PC1', backgroundcolor='grey'),
            yaxis=dict(color='white', title='PC2', backgroundcolor='grey'),
            zaxis=dict(color='white', title='PC3', backgroundcolor='grey'), 
        )
    )
    data = go.Scatter3d(x=pca_df['PC1'], 
                        y=pca_df['PC2'], 
                        z=pca_df['PC3'], 
                        mode='markers',  
                        marker=dict( 
                            size=8, 
                            color=pca_df['CLUSTER'], 
                            colorscale='Viridis', 
                            colorbar=dict(
                                title=dict(
                                    text='Cluster',
                                    font=dict(color='white')
                                ),
                                tickfont=dict(
                                    color='white'
                                ),
                            ),
                            opacity=0.8
                        )
    )
    fig = go.Figure(data=[data], layout=layout)
    fig.show()


app_contents = [
    widgets.HTML(title_html),
    pca_out
]
app = widgets.VBox(app_contents)


display(app)
