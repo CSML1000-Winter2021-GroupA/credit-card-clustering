import matplotlib.pyplot as plt
import numpy as np
import os
import pandas as pd
import plotly
import plotly.graph_objects as go
import plotly.express as px
from scipy.spatial.distance import cdist, pdist
from sklearn.cluster import KMeans
from sklearn.metrics import silhouette_score

plotly.offline.init_notebook_mode(connected=True)


cc_df = pd.read_csv(os.path.join('data', 'CC GENERAL.csv'))
cc_df.head()


sanitized_df = cc_df.drop(columns=['CUST_ID']).fillna(0)  # drop customer id as it is unlikely to contain any useful data and fill missing values
k_summary = {}
k_values = []
silhouette_values = []

for k in range(2, 10):  # check between 1 and 10 clusters
    k_means_fit = KMeans(n_clusters=k, max_iter=300)
    k_means_fit.fit(sanitized_df)
    k_values.append(k)
    silhouette_values.append(silhouette_score(sanitized_df, k_means_fit.labels_, metric='euclidean'))

k_summary['k-values'] = k_values
k_summary['silhouette-values'] = silhouette_values
pd.DataFrame(k_summary)


num_of_clusters = range(1, 10)
k_means = [KMeans(n_clusters=cluster).fit(sanitized_df) for cluster in num_of_clusters]
centroids = [k.cluster_centers_ for k in k_means]
distances = [cdist(sanitized_df, centroid, 'euclidean') for centroid in centroids]
min_distances = [np.min(distance, axis=1) for distance in distances]
avg_within_cluster_sum_squares = [sum(distance) / sanitized_df.shape[0] for distance in min_distances]
elbow_df = pd.DataFrame({'number_of_clusters': num_of_clusters, 'avg_within_cluster_sum_squares': avg_within_cluster_sum_squares})

fig = go.Figure(data=go.Scatter(x=elbow_df['number_of_clusters'], y=elbow_df['avg_within_cluster_sum_squares']), 
                layout=go.Layout(title='Average Within Cluster Sum of Squares', plot_bgcolor='rgba(0,0,0,0)', xaxis=dict(title='K means', spikedash='dash'), yaxis=dict(title='Sum of Squares', spikedash='dash')))
fig.show()


total_sum_squares = sum(pdist(sanitized_df)**2) / sanitized_df.shape[0]
within_cluster_sum_squares = [sum(distance**2) for distance in min_distances]
between_cluster_sum_squares = total_sum_squares - within_cluster_sum_squares
var_explained_df = pd.DataFrame({'num_of_clusters': num_of_clusters, 'percent_var_explained': between_cluster_sum_squares / total_sum_squares * 100})

fig = go.Figure(data=go.Scatter(x=var_explained_df['num_of_clusters'], y=var_explained_df['percent_var_explained']), 
                layout=go.Layout(title='Percentage of Variance Explained', plot_bgcolor='rgba(0,0,0,0)', xaxis=dict(title='K means', spikedash='dash'), yaxis=dict(title='Percentage of Variance Explained', spikedash='dash')))
fig.show()
