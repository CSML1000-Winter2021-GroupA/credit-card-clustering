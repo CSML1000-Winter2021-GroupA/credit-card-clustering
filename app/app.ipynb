{
 "cells": [
  {
   "cell_type": "code",
   "execution_count": null,
   "metadata": {},
   "outputs": [],
   "source": [
    "import ipywidgets as widgets\n",
    "import numpy as np\n",
    "import pandas as pd\n",
    "import pickle\n",
    "import plotly.express as px\n",
    "import plotly.graph_objs as go\n",
    "\n",
    "pca_df = pickle.load(open('pca.sav', 'rb'))\n",
    "explain_df = pickle.load(open('explain_df.sav', 'rb'))"
   ]
  },
  {
   "cell_type": "code",
   "execution_count": null,
   "metadata": {},
   "outputs": [],
   "source": [
    "title_html = \"\"\"\n",
    "<link rel=\"stylesheet\" href=\"https://stackpath.bootstrapcdn.com/bootstrap/4.5.2/css/bootstrap.min.css\" integrity=\"sha384-JcKb8q3iqJ61gNV9KGb8thSsNjpSL0n8PARn9HuZOnIxN0hoP+VmmDGMN5t9UJ0Z\" crossorigin=\"anonymous\">\n",
    "\n",
    "<h2>Credit Card Clustering Analysis</h2>\n",
    "\"\"\"\n",
    "\n",
    "scatter_html = \"<p>The first 3 principle components are graphed below with the color of the marker indicating which cluster they belong to.</p>\"\n",
    "\n",
    "variance_html = \"<p></p>\""
   ]
  },
  {
   "cell_type": "code",
   "execution_count": null,
   "metadata": {},
   "outputs": [],
   "source": [
    "chart_bg_color = 'rgba(48,48,48,255)'\n",
    "pca_out = widgets.Output()\n",
    "\n",
    "with pca_out:\n",
    "    layout = go.Layout(\n",
    "        paper_bgcolor='rgba(255,255,255,0)', \n",
    "        plot_bgcolor='rgba(255,255,255,0)', \n",
    "        height=600,\n",
    "        scene=dict(\n",
    "            xaxis=dict(color='white', title='PC1', backgroundcolor=chart_bg_color),\n",
    "            yaxis=dict(color='white', title='PC2', backgroundcolor=chart_bg_color),\n",
    "            zaxis=dict(color='white', title='PC3', backgroundcolor=chart_bg_color), \n",
    "        )\n",
    "    )\n",
    "    data = go.Scatter3d(x=pca_df['PC1'], \n",
    "                        y=pca_df['PC2'], \n",
    "                        z=pca_df['PC3'], \n",
    "                        mode='markers',  \n",
    "                        marker=dict( \n",
    "                            size=4, \n",
    "                            color=pca_df['CLUSTER'], \n",
    "                            colorscale='Viridis', \n",
    "                            colorbar=dict(\n",
    "                                title=dict(\n",
    "                                    text='Cluster',\n",
    "                                    font=dict(color='white')\n",
    "                                ),\n",
    "                                tickfont=dict(\n",
    "                                    color='white'\n",
    "                                ),\n",
    "                            ),\n",
    "                            opacity=0.8\n",
    "                        )\n",
    "    )\n",
    "    fig = go.Figure(data=[data], layout=layout)\n",
    "    fig.show()"
   ]
  },
  {
   "cell_type": "code",
   "execution_count": null,
   "metadata": {},
   "outputs": [],
   "source": [
    "var_cum_out = widgets.Output()\n",
    "var_marginal_out = widgets.Output()\n",
    "\n",
    "with var_cum_out:\n",
    "    data = go.Scatter(\n",
    "        x=explain_df['PC'], \n",
    "        y=explain_df['Cumulative Varaince'],\n",
    "        line=dict(\n",
    "            width=3,\n",
    "            color='orange'\n",
    "        )\n",
    "    )\n",
    "    layout = go.Layout(\n",
    "        height=300,\n",
    "        paper_bgcolor='rgba(255,255,255,0)',\n",
    "        plot_bgcolor=chart_bg_color, \n",
    "        xaxis=dict(\n",
    "            title='Principle Components', \n",
    "            spikedash='dash',\n",
    "            color='white'), \n",
    "        yaxis=dict(\n",
    "            title='Total variance explained', \n",
    "            spikedash='dash',\n",
    "            color='white')\n",
    "    )\n",
    "    fig = go.Figure(data=data, layout=layout)\n",
    "    fig.show()\n",
    "\n",
    "with var_marginal_out:\n",
    "    data = go.Bar(\n",
    "        x=explain_df['PC'], \n",
    "        y=explain_df['Explained Variance'],\n",
    "        marker=dict(color='orange')\n",
    "    )\n",
    "    layout = go.Layout(\n",
    "        height=300,\n",
    "        paper_bgcolor='rgba(255,255,255,0)',\n",
    "        plot_bgcolor=chart_bg_color, \n",
    "        xaxis=dict(\n",
    "            title='Principle Components', \n",
    "            spikedash='dash',\n",
    "            color='white'), \n",
    "        yaxis=dict(\n",
    "            title='Explained Variance', \n",
    "            spikedash='dash',\n",
    "            color='white')\n",
    "    )\n",
    "    fig = go.Figure(data=data, layout=layout)\n",
    "    fig.show()"
   ]
  },
  {
   "cell_type": "code",
   "execution_count": null,
   "metadata": {},
   "outputs": [],
   "source": [
    "app_contents = [\n",
    "    widgets.HTML(title_html),\n",
    "    widgets.HBox([widgets.HTML(scatter_html), widgets.HTML(variance_html)]),\n",
    "    widgets.HBox([pca_out, widgets.VBox([var_cum_out, var_marginal_out])])\n",
    "]\n",
    "app = widgets.VBox(app_contents)"
   ]
  },
  {
   "cell_type": "code",
   "execution_count": null,
   "metadata": {},
   "outputs": [],
   "source": [
    "display(app)"
   ]
  }
 ],
 "metadata": {
  "kernelspec": {
   "display_name": "Python 3",
   "language": "python",
   "name": "python3"
  },
  "language_info": {
   "codemirror_mode": {
    "name": "ipython",
    "version": 3
   },
   "file_extension": ".py",
   "mimetype": "text/x-python",
   "name": "python",
   "nbconvert_exporter": "python",
   "pygments_lexer": "ipython3",
   "version": "3.8.5"
  }
 },
 "nbformat": 4,
 "nbformat_minor": 4
}