{
 "cells": [
  {
   "cell_type": "code",
   "execution_count": null,
   "metadata": {},
   "outputs": [],
   "source": [
    "import ipywidgets as widgets\n",
    "import numpy as np\n",
    "import pandas as pd\n",
    "import pickle\n",
    "import plotly.express as px\n",
    "import plotly.graph_objs as go\n",
    "\n",
    "pca_df = pickle.load(open('pca.sav', 'rb'))"
   ]
  },
  {
   "cell_type": "code",
   "execution_count": null,
   "metadata": {},
   "outputs": [],
   "source": [
    "title_html = \"\"\"\n",
    "<link rel=\"stylesheet\" href=\"https://stackpath.bootstrapcdn.com/bootstrap/4.5.2/css/bootstrap.min.css\" integrity=\"sha384-JcKb8q3iqJ61gNV9KGb8thSsNjpSL0n8PARn9HuZOnIxN0hoP+VmmDGMN5t9UJ0Z\" crossorigin=\"anonymous\">\n",
    "\n",
    "<h2>Credit Card Clustering Analysis</h2>\n",
    "\"\"\""
   ]
  },
  {
   "cell_type": "code",
   "execution_count": null,
   "metadata": {},
   "outputs": [],
   "source": [
    "pca_out = widgets.Output()\n",
    "\n",
    "with pca_out:\n",
    "    layout = go.Layout(\n",
    "        paper_bgcolor='rgba(255,255,255,0)', \n",
    "        plot_bgcolor='rgba(255,255,255,0)', \n",
    "        scene=dict(\n",
    "            xaxis=dict(color='white', title='PC1', backgroundcolor='grey'),\n",
    "            yaxis=dict(color='white', title='PC2', backgroundcolor='grey'),\n",
    "            zaxis=dict(color='white', title='PC3', backgroundcolor='grey'), \n",
    "        )\n",
    "    )\n",
    "    data = go.Scatter3d(x=pca_df['PC1'], \n",
    "                        y=pca_df['PC2'], \n",
    "                        z=pca_df['PC3'], \n",
    "                        mode='markers',  \n",
    "                        marker=dict( \n",
    "                            size=8, \n",
    "                            color=pca_df['CLUSTER'], \n",
    "                            colorscale='Viridis', \n",
    "                            colorbar=dict(\n",
    "                                title=dict(\n",
    "                                    text='Cluster',\n",
    "                                    font=dict(color='white')\n",
    "                                ),\n",
    "                                tickfont=dict(\n",
    "                                    color='white'\n",
    "                                ),\n",
    "                            ),\n",
    "                            opacity=0.8\n",
    "                        )\n",
    "    )\n",
    "    fig = go.Figure(data=[data], layout=layout)\n",
    "    fig.show()"
   ]
  },
  {
   "cell_type": "code",
   "execution_count": null,
   "metadata": {},
   "outputs": [],
   "source": [
    "app_contents = [\n",
    "    widgets.HTML(title_html),\n",
    "    pca_out\n",
    "]\n",
    "app = widgets.VBox(app_contents)"
   ]
  },
  {
   "cell_type": "code",
   "execution_count": null,
   "metadata": {},
   "outputs": [],
   "source": [
    "display(app)"
   ]
  }
 ],
 "metadata": {
  "kernelspec": {
   "display_name": "Python 3",
   "language": "python",
   "name": "python3"
  },
  "language_info": {
   "codemirror_mode": {
    "name": "ipython",
    "version": 3
   },
   "file_extension": ".py",
   "mimetype": "text/x-python",
   "name": "python",
   "nbconvert_exporter": "python",
   "pygments_lexer": "ipython3",
   "version": "3.8.5"
  }
 },
 "nbformat": 4,
 "nbformat_minor": 4
}
